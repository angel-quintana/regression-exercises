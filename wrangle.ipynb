{
 "cells": [
  {
   "cell_type": "code",
   "execution_count": 1,
   "id": "971f305f",
   "metadata": {},
   "outputs": [],
   "source": [
    "# tabular manipulation\n",
    "import numpy as np\n",
    "import pandas as pd\n",
    "import matplotlib.pyplot as plt\n",
    "import seaborn as sns\n",
    "from scipy import stats\n",
    "import env"
   ]
  },
  {
   "cell_type": "markdown",
   "id": "5ea9ce59",
   "metadata": {},
   "source": [
    "# ex1\n",
    "Acquire \n",
    "\n",
    "-bedroomcnt\n",
    "-bathroomcnt\n",
    "-calculatedfinishedsquarefeet\n",
    "-taxvaluedollarcnt\n",
    "-yearbuilt\n",
    "-taxamount\n",
    "-fips \n",
    "\n",
    "from the zillow database for all 'Single Family Residential' properties."
   ]
  },
  {
   "cell_type": "code",
   "execution_count": 6,
   "id": "1e0c3fdc",
   "metadata": {},
   "outputs": [],
   "source": [
    "def get_zillow_data():\n",
    "    '''\n",
    "    loads zillow data from sql query\n",
    "    '''\n",
    "    url = env.get_db_url('zillow')\n",
    "    query = '''\n",
    "    select bedroomcnt, bathroomcnt, calculatedfinishedsquarefeet, taxvaluedollarcnt, yearbuilt, taxamount, fips\n",
    "    from propertylandusetype\n",
    "        join properties_2017\n",
    "            using (propertylandusetypeid)\n",
    "        WHERE propertylandusedesc = (\"Single Family Residential\")\n",
    "    '''\n",
    "\n",
    "    df = pd.read_sql(query, url)\n",
    "    return df"
   ]
  },
  {
   "cell_type": "code",
   "execution_count": 23,
   "id": "a12a1a3f",
   "metadata": {},
   "outputs": [],
   "source": [
    "#saving to dataframe\n",
    "zillow_df= get_zillow_data()"
   ]
  },
  {
   "cell_type": "code",
   "execution_count": 24,
   "id": "34744c9b",
   "metadata": {},
   "outputs": [
    {
     "data": {
      "text/plain": [
       "(2152863, 7)"
      ]
     },
     "execution_count": 24,
     "metadata": {},
     "output_type": "execute_result"
    }
   ],
   "source": [
    "zillow_df.shape"
   ]
  },
  {
   "cell_type": "markdown",
   "id": "47cf9e97",
   "metadata": {},
   "source": [
    "# ex2\n",
    "Using your acquired Zillow data, walk through the summarization and cleaning steps in your wrangle.ipynb file like we did above. You may handle the missing values however you feel is appropriate and meaningful; remember to document your process and decisions using markdown and code commenting where helpful."
   ]
  },
  {
   "cell_type": "code",
   "execution_count": 25,
   "id": "735ca192",
   "metadata": {},
   "outputs": [
    {
     "name": "stdout",
     "output_type": "stream",
     "text": [
      "<class 'pandas.core.frame.DataFrame'>\n",
      "RangeIndex: 2152863 entries, 0 to 2152862\n",
      "Data columns (total 7 columns):\n",
      " #   Column                        Dtype  \n",
      "---  ------                        -----  \n",
      " 0   bedroomcnt                    float64\n",
      " 1   bathroomcnt                   float64\n",
      " 2   calculatedfinishedsquarefeet  float64\n",
      " 3   taxvaluedollarcnt             float64\n",
      " 4   yearbuilt                     float64\n",
      " 5   taxamount                     float64\n",
      " 6   fips                          float64\n",
      "dtypes: float64(7)\n",
      "memory usage: 115.0 MB\n"
     ]
    }
   ],
   "source": [
    "zillow_df.info()"
   ]
  },
  {
   "cell_type": "code",
   "execution_count": 26,
   "id": "80fc97c3",
   "metadata": {},
   "outputs": [
    {
     "data": {
      "text/plain": [
       "bedroomcnt                        11\n",
       "bathroomcnt                       11\n",
       "calculatedfinishedsquarefeet    8484\n",
       "taxvaluedollarcnt                493\n",
       "yearbuilt                       9337\n",
       "taxamount                       4442\n",
       "fips                               0\n",
       "dtype: int64"
      ]
     },
     "execution_count": 26,
     "metadata": {},
     "output_type": "execute_result"
    }
   ],
   "source": [
    "zillow_df.isnull().sum()"
   ]
  },
  {
   "cell_type": "code",
   "execution_count": 33,
   "id": "cc5ada05",
   "metadata": {},
   "outputs": [],
   "source": [
    "zillow_df = zillow_df.dropna()"
   ]
  },
  {
   "cell_type": "code",
   "execution_count": 34,
   "id": "14a3ca56",
   "metadata": {},
   "outputs": [
    {
     "data": {
      "text/plain": [
       "(2140235, 7)"
      ]
     },
     "execution_count": 34,
     "metadata": {},
     "output_type": "execute_result"
    }
   ],
   "source": [
    "zillow_df.shape"
   ]
  },
  {
   "cell_type": "code",
   "execution_count": 29,
   "id": "2748d12c",
   "metadata": {},
   "outputs": [
    {
     "data": {
      "text/html": [
       "<div>\n",
       "<style scoped>\n",
       "    .dataframe tbody tr th:only-of-type {\n",
       "        vertical-align: middle;\n",
       "    }\n",
       "\n",
       "    .dataframe tbody tr th {\n",
       "        vertical-align: top;\n",
       "    }\n",
       "\n",
       "    .dataframe thead th {\n",
       "        text-align: right;\n",
       "    }\n",
       "</style>\n",
       "<table border=\"1\" class=\"dataframe\">\n",
       "  <thead>\n",
       "    <tr style=\"text-align: right;\">\n",
       "      <th></th>\n",
       "      <th>bedroomcnt</th>\n",
       "      <th>bathroomcnt</th>\n",
       "      <th>calculatedfinishedsquarefeet</th>\n",
       "      <th>taxvaluedollarcnt</th>\n",
       "      <th>yearbuilt</th>\n",
       "      <th>taxamount</th>\n",
       "      <th>fips</th>\n",
       "    </tr>\n",
       "  </thead>\n",
       "  <tbody>\n",
       "    <tr>\n",
       "      <th>4</th>\n",
       "      <td>4.0</td>\n",
       "      <td>2.0</td>\n",
       "      <td>3633.0</td>\n",
       "      <td>296425.0</td>\n",
       "      <td>2005.0</td>\n",
       "      <td>6941.39</td>\n",
       "      <td>6037.0</td>\n",
       "    </tr>\n",
       "    <tr>\n",
       "      <th>6</th>\n",
       "      <td>3.0</td>\n",
       "      <td>4.0</td>\n",
       "      <td>1620.0</td>\n",
       "      <td>847770.0</td>\n",
       "      <td>2011.0</td>\n",
       "      <td>10244.94</td>\n",
       "      <td>6037.0</td>\n",
       "    </tr>\n",
       "    <tr>\n",
       "      <th>7</th>\n",
       "      <td>3.0</td>\n",
       "      <td>2.0</td>\n",
       "      <td>2077.0</td>\n",
       "      <td>646760.0</td>\n",
       "      <td>1926.0</td>\n",
       "      <td>7924.68</td>\n",
       "      <td>6037.0</td>\n",
       "    </tr>\n",
       "    <tr>\n",
       "      <th>11</th>\n",
       "      <td>0.0</td>\n",
       "      <td>0.0</td>\n",
       "      <td>1200.0</td>\n",
       "      <td>5328.0</td>\n",
       "      <td>1972.0</td>\n",
       "      <td>91.60</td>\n",
       "      <td>6037.0</td>\n",
       "    </tr>\n",
       "    <tr>\n",
       "      <th>14</th>\n",
       "      <td>0.0</td>\n",
       "      <td>0.0</td>\n",
       "      <td>171.0</td>\n",
       "      <td>6920.0</td>\n",
       "      <td>1973.0</td>\n",
       "      <td>255.17</td>\n",
       "      <td>6037.0</td>\n",
       "    </tr>\n",
       "  </tbody>\n",
       "</table>\n",
       "</div>"
      ],
      "text/plain": [
       "    bedroomcnt  bathroomcnt  calculatedfinishedsquarefeet  taxvaluedollarcnt  \\\n",
       "4          4.0          2.0                        3633.0           296425.0   \n",
       "6          3.0          4.0                        1620.0           847770.0   \n",
       "7          3.0          2.0                        2077.0           646760.0   \n",
       "11         0.0          0.0                        1200.0             5328.0   \n",
       "14         0.0          0.0                         171.0             6920.0   \n",
       "\n",
       "    yearbuilt  taxamount    fips  \n",
       "4      2005.0    6941.39  6037.0  \n",
       "6      2011.0   10244.94  6037.0  \n",
       "7      1926.0    7924.68  6037.0  \n",
       "11     1972.0      91.60  6037.0  \n",
       "14     1973.0     255.17  6037.0  "
      ]
     },
     "execution_count": 29,
     "metadata": {},
     "output_type": "execute_result"
    }
   ],
   "source": [
    "zillow_df.head()"
   ]
  },
  {
   "cell_type": "code",
   "execution_count": 30,
   "id": "01f700d1",
   "metadata": {},
   "outputs": [],
   "source": [
    "zillow_df.yearbuilt = zillow_df.yearbuilt.astype(int)\n",
    "zillow_df.bedroomcnt = zillow_df.bedroomcnt.astype(int)\n",
    "zillow_df.fips = zillow_df.fips.astype(int)\n",
    "zillow_df.taxvaluedollarcnt = zillow_df.taxvaluedollarcnt.astype(int)\n",
    "zillow_df.calculatedfinishedsquarefeet = zillow_df.calculatedfinishedsquarefeet.astype(int)"
   ]
  },
  {
   "cell_type": "code",
   "execution_count": 31,
   "id": "ee2aeab4",
   "metadata": {},
   "outputs": [
    {
     "data": {
      "text/plain": [
       "bedroomcnt                        int64\n",
       "bathroomcnt                     float64\n",
       "calculatedfinishedsquarefeet      int64\n",
       "taxvaluedollarcnt                 int64\n",
       "yearbuilt                         int64\n",
       "taxamount                       float64\n",
       "fips                              int64\n",
       "dtype: object"
      ]
     },
     "execution_count": 31,
     "metadata": {},
     "output_type": "execute_result"
    }
   ],
   "source": [
    "zillow_df.dtypes"
   ]
  },
  {
   "cell_type": "markdown",
   "id": "31de4316",
   "metadata": {},
   "source": [
    "# ex3\n",
    "Write a function to split your data into train, validate, and test."
   ]
  },
  {
   "cell_type": "code",
   "execution_count": 32,
   "id": "076a8bc8",
   "metadata": {},
   "outputs": [],
   "source": [
    "def splitting_data(df, col):\n",
    "    '''\n",
    "    input dataframe and target variable to stratify on\n",
    "    returns 3 dataframes serving as train, validate, and test samples\n",
    "    '''\n",
    "\n",
    "    #first split\n",
    "    train, validate_test = train_test_split(df,\n",
    "                     train_size=0.6,\n",
    "                     random_state=123,\n",
    "                     stratify=df[col]\n",
    "                    )\n",
    "    \n",
    "    #second split\n",
    "    validate, test = train_test_split(validate_test,\n",
    "                                     train_size=0.5,\n",
    "                                      random_state=123,\n",
    "                                      stratify=validate_test[col]\n",
    "                        \n",
    "                                     )\n",
    "    return train, validate, test"
   ]
  },
  {
   "cell_type": "code",
   "execution_count": null,
   "id": "209a181b",
   "metadata": {},
   "outputs": [],
   "source": []
  },
  {
   "cell_type": "markdown",
   "id": "a9f70cc1",
   "metadata": {},
   "source": [
    "# ex4\n",
    "Store all of the necessary functions to automate your process from acquiring the data to returning a cleaned dataframe with no missing values in your wrangle.py file. Name your final function wrangle_zillow."
   ]
  },
  {
   "cell_type": "code",
   "execution_count": 35,
   "id": "8a63fec3",
   "metadata": {},
   "outputs": [],
   "source": [
    "#fetch sql data    \n",
    "def get_zillow_data():\n",
    "    '''\n",
    "    loads zillow data from sql query\n",
    "    '''\n",
    "    url = env.get_db_url('zillow')\n",
    "    query = '''\n",
    "    select bedroomcnt, bathroomcnt, calculatedfinishedsquarefeet, taxvaluedollarcnt, yearbuilt, taxamount, fips\n",
    "    from propertylandusetype\n",
    "        join properties_2017\n",
    "            using (propertylandusetypeid)\n",
    "        WHERE propertylandusedesc = (\"Single Family Residential\")\n",
    "    '''\n",
    "\n",
    "    df = pd.read_sql(query, url)\n",
    "    return df    \n",
    "    \n",
    "#functionize/wrangle - acquisition and preparation\n",
    "def wrangle_zillow():\n",
    "    zillow_df= get_zillow_data()\n",
    "\n",
    "#blank space and nulls\n",
    "    zillow_df = zillow_df.dropna()\n",
    "    \n",
    "#change datatypes to ints\n",
    "    zillow_df.yearbuilt = zillow_df.yearbuilt.astype(int)\n",
    "    zillow_df.bedroomcnt = zillow_df.bedroomcnt.astype(int)\n",
    "    zillow_df.fips = zillow_df.fips.astype(int)\n",
    "    zillow_df.taxvaluedollarcnt = zillow_df.taxvaluedollarcnt.astype(int)\n",
    "    zillow_df.calculatedfinishedsquarefeet = zillow_df.calculatedfinishedsquarefeet.astype(int)\n",
    "    \n",
    "    return zillow_df"
   ]
  },
  {
   "cell_type": "code",
   "execution_count": 37,
   "id": "62129519",
   "metadata": {},
   "outputs": [],
   "source": [
    "test = wrangle_zillow()"
   ]
  },
  {
   "cell_type": "code",
   "execution_count": 38,
   "id": "56292be8",
   "metadata": {},
   "outputs": [
    {
     "data": {
      "text/plain": [
       "bedroomcnt                        int64\n",
       "bathroomcnt                     float64\n",
       "calculatedfinishedsquarefeet      int64\n",
       "taxvaluedollarcnt                 int64\n",
       "yearbuilt                         int64\n",
       "taxamount                       float64\n",
       "fips                              int64\n",
       "dtype: object"
      ]
     },
     "execution_count": 38,
     "metadata": {},
     "output_type": "execute_result"
    }
   ],
   "source": [
    "test.dtypes"
   ]
  },
  {
   "cell_type": "code",
   "execution_count": null,
   "id": "af3d4e51",
   "metadata": {},
   "outputs": [],
   "source": []
  }
 ],
 "metadata": {
  "kernelspec": {
   "display_name": "Python 3 (ipykernel)",
   "language": "python",
   "name": "python3"
  },
  "language_info": {
   "codemirror_mode": {
    "name": "ipython",
    "version": 3
   },
   "file_extension": ".py",
   "mimetype": "text/x-python",
   "name": "python",
   "nbconvert_exporter": "python",
   "pygments_lexer": "ipython3",
   "version": "3.11.5"
  }
 },
 "nbformat": 4,
 "nbformat_minor": 5
}
